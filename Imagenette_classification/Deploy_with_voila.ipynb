{
 "cells": [
  {
   "cell_type": "code",
   "execution_count": 1,
   "id": "362adbcb",
   "metadata": {},
   "outputs": [],
   "source": [
    "import tensorflow as tf\n",
    "import numpy as np\n",
    "from PIL import Image\n",
    "from ipywidgets import widgets\n",
    "import io\n",
    "from IPython.display import display, display_html, HTML"
   ]
  },
  {
   "cell_type": "code",
   "execution_count": 2,
   "id": "9c7d61f5",
   "metadata": {},
   "outputs": [],
   "source": [
    "idx2label = {\n",
    "    0: \"tench\", \n",
    "    1: \"English springer\", \n",
    "    2: \"cassette player\", \n",
    "    3: \"chain saw\", \n",
    "    4: \"church\", \n",
    "    5: \"French horn\", \n",
    "    6: \"garbage truck\",\n",
    "    7: \"gas pump\", \n",
    "    8: \"golf ball\", \n",
    "    9: \"parachute\"\n",
    "}"
   ]
  },
  {
   "cell_type": "code",
   "execution_count": 3,
   "id": "6c6d3523",
   "metadata": {},
   "outputs": [],
   "source": [
    "def classify(image, model):\n",
    "    image = tf.convert_to_tensor(np.array(image)).numpy()\n",
    "    image = tf.image.resize(image, (160, 160))\n",
    "    batch = tf.expand_dims(image, 0)\n",
    "    res = model(batch)\n",
    "    conf_idx = tf.argmax(tf.sigmoid(res[0]))\n",
    "    print(\n",
    "        f\"It's a: {idx2label[tf.argmax(res[0]).numpy()]} with a confidence of {tf.sigmoid(res[0])[conf_idx] * 100:.3f}%\"\n",
    "    )\n",
    "    print(\"**Refresh page to classifiy more images!**\")"
   ]
  },
  {
   "cell_type": "code",
   "execution_count": 4,
   "id": "51fb0c9d",
   "metadata": {},
   "outputs": [],
   "source": [
    "model = tf.keras.models.load_model(\"best.hdf5\")"
   ]
  },
  {
   "cell_type": "markdown",
   "id": "2033c7ad",
   "metadata": {},
   "source": [
    "<h1><center>Imagenette Classifier!</center></h1>"
   ]
  },
  {
   "cell_type": "code",
   "execution_count": 5,
   "id": "61642000",
   "metadata": {},
   "outputs": [
    {
     "data": {
      "application/vnd.jupyter.widget-view+json": {
       "model_id": "509bb2724f204b0885e5b2ea124bb390",
       "version_major": 2,
       "version_minor": 0
      },
      "text/plain": [
       "HBox(children=(FileUpload(value={}, description='Upload'), Button(description='Classify!', style=ButtonStyle()…"
      ]
     },
     "metadata": {},
     "output_type": "display_data"
    }
   ],
   "source": [
    "upload = widgets.FileUpload()\n",
    "box_layout = widgets.Layout(display='flex',\n",
    "                            flex_flow='row',\n",
    "                            align_items='center',\n",
    "                            width='auto')\n",
    "lay = widgets.Layout(display='flex',\n",
    "                     flex_flow='column',\n",
    "                     align_items='center',\n",
    "                     width='auto')\n",
    "\n",
    "button = widgets.Button(description='Classify!')\n",
    "out = widgets.Output(layout={'border': '1px solid black'})\n",
    "\n",
    "\n",
    "def on_button_clicked(_):\n",
    "    with out:\n",
    "        with tf.device('/CPU:0'):\n",
    "            data = upload.data\n",
    "            image = Image.open(io.BytesIO(data[-1]))\n",
    "            display(image)\n",
    "            classify(image, model)\n",
    "            upload.close()\n",
    "            button.close()\n",
    "\n",
    "\n",
    "button.on_click(on_button_clicked)\n",
    "box = widgets.HBox(children=[upload, button, out], layout=lay)\n",
    "box"
   ]
  },
  {
   "cell_type": "code",
   "execution_count": null,
   "id": "4ef472af",
   "metadata": {},
   "outputs": [],
   "source": []
  }
 ],
 "metadata": {
  "kernelspec": {
   "display_name": "Python 3",
   "language": "python",
   "name": "python3"
  },
  "language_info": {
   "codemirror_mode": {
    "name": "ipython",
    "version": 3
   },
   "file_extension": ".py",
   "mimetype": "text/x-python",
   "name": "python",
   "nbconvert_exporter": "python",
   "pygments_lexer": "ipython3",
   "version": "3.8.8"
  },
  "toc": {
   "base_numbering": 1,
   "nav_menu": {},
   "number_sections": false,
   "sideBar": true,
   "skip_h1_title": false,
   "title_cell": "Table of Contents",
   "title_sidebar": "Contents",
   "toc_cell": false,
   "toc_position": {},
   "toc_section_display": true,
   "toc_window_display": false
  },
  "toc-autonumbering": false,
  "toc-showcode": false
 },
 "nbformat": 4,
 "nbformat_minor": 5
}
